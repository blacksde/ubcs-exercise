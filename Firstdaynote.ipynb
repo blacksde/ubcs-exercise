{
 "cells": [
  {
   "cell_type": "markdown",
   "metadata": {},
   "source": [
    "# ubcs3 week 1 notes\n",
    "## July 20 2016\n",
    "\n",
    "Today's Agenda:\n",
    "\n",
    "* Jupyter NoteBooks\n",
    "* Repos on Gibhub\n",
    "* Git clone, push and pull\n",
    "* Collabrarte on Github\n",
    "* Intro to Python"
   ]
  },
  {
   "cell_type": "markdown",
   "metadata": {},
   "source": [
    "## 1. Jupyter Notebooks\n",
    "\n",
    "Jupyter is a webapplication which allows you to write text, markdown, include images and execute code all in the browser. See [jupyter.org](jupyter.org)."
   ]
  },
  {
   "cell_type": "markdown",
   "metadata": {},
   "source": [
    "We can include:\n",
    "\n",
    "* headline with #\n",
    "* links -`[title](link)`-\n",
    "* image - `![title](link)` - ![title](https://assets-cdn.github.com/images/modules/logos_page/Octocat.png)\n",
    "\n",
    "In a code cell, we execute Python 3 code (since we've specified the kernel to be Python 3.\n"
   ]
  },
  {
   "cell_type": "code",
   "execution_count": 4,
   "metadata": {
    "collapsed": false
   },
   "outputs": [
    {
     "name": "stdout",
     "output_type": "stream",
     "text": [
      "0 squared is equal to 0\n",
      "1 squared is equal to 1\n",
      "2 squared is equal to 4\n",
      "3 squared is equal to 9\n"
     ]
    }
   ],
   "source": [
    "for n in range (0,4):\n",
    "    print(n, \"squared is equal to\", n**2)"
   ]
  },
  {
   "cell_type": "markdown",
   "metadata": {},
   "source": [
    "### Exercise\n",
    "\n",
    "Make a new Jupyther notebook with a Python 3 kernel and write a quick discription of a project you are working or interested in. Use markdown cells including cells, link. images, headings, lists, Latex and Python code (if you like). Take your time becasue we're going to be pushing these notebooks to Gibhub in a later exercise.\n",
    "\n"
   ]
  },
  {
   "cell_type": "markdown",
   "metadata": {},
   "source": [
    "## 2. Github\n",
    "\n"
   ]
  }
 ],
 "metadata": {
  "kernelspec": {
   "display_name": "Python 3",
   "language": "python",
   "name": "python3"
  },
  "language_info": {
   "codemirror_mode": {
    "name": "ipython",
    "version": 3
   },
   "file_extension": ".py",
   "mimetype": "text/x-python",
   "name": "python",
   "nbconvert_exporter": "python",
   "pygments_lexer": "ipython3",
   "version": "3.5.1"
  }
 },
 "nbformat": 4,
 "nbformat_minor": 0
}
